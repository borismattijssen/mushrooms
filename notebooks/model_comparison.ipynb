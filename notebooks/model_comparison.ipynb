{
 "cells": [
  {
   "cell_type": "code",
   "execution_count": 2,
   "metadata": {},
   "outputs": [],
   "source": [
    "import pandas as pd\n",
    "from sklearn.model_selection import train_test_split\n",
    "from sklearn.svm import SVC\n",
    "from sklearn.neural_network import MLPClassifier\n",
    "from sklearn.metrics import make_scorer, f1_score, confusion_matrix, roc_curve, accuracy_score, auc, roc_auc_score, classification_report\n",
    "from sklearn.model_selection import GridSearchCV\n",
    "import matplotlib.pyplot as plt\n",
    "\n",
    "tuned_parameters = [{'kernel': ['rbf'], 'gamma': [1e-3, 1e-4],\n",
    "                     'C': [0.1, 1]},\n",
    "                    {'kernel': ['linear'], 'C': [0.01, 0.1, 1]},\n",
    "                    {'kernel': ['poly'], 'C': [0.01, 0.1], 'degree': [3, 4], 'coef0': [0.1, 0.5]}]\n",
    "\n",
    "nn_tuned_parameters = [{'hidden_layer_sizes': [(30,), (50,), (50, 10), (100, 10, 10)],\n",
    "                        'activation': ['tanh','logistic','relu'],\n",
    "                        'alpha':[0.0001,0.001,0.01,0.1,1,10], 'max_iter': range(50,200,50)}]\n",
    "clf = SVC()\n",
    "scorers = {\n",
    "    'f1_score': make_scorer(f1_score)\n",
    "}\n"
   ]
  },
  {
   "cell_type": "code",
   "execution_count": 2,
   "metadata": {
    "collapsed": true
   },
   "outputs": [],
   "source": [
    ""
   ]
  },
  {
   "cell_type": "code",
   "execution_count": 2,
   "metadata": {},
   "outputs": [],
   "source": [
    ""
   ]
  },
  {
   "cell_type": "heading",
   "metadata": {},
   "level": 3,
   "source": [
    "Loading PCA data and splitting to train and evaluation set"
   ]
  },
  {
   "cell_type": "code",
   "execution_count": 4,
   "metadata": {},
   "outputs": [],
   "source": [
    "data = pd.read_csv('data/processed/mushrooms_pca.csv')\n",
    "y = data['class']\n",
    "X = data.drop('class', axis=1)\n",
    "\n",
    "X_train, X_test, y_train, y_test = \\\n",
    "        train_test_split(X, y.ravel(), test_size=.2, random_state=42)\n"
   ]
  },
  {
   "cell_type": "heading",
   "metadata": {},
   "level": 3,
   "source": [
    "Grid search - best params"
   ]
  },
  {
   "cell_type": "code",
   "execution_count": 5,
   "metadata": {},
   "outputs": [
    {
     "data": {
      "text/plain": [
       "GridSearchCV(cv=10, error_score='raise-deprecating',\n       estimator=SVC(C=1.0, cache_size=200, class_weight=None, coef0=0.0,\n  decision_function_shape='ovr', degree=3, gamma='auto_deprecated',\n  kernel='rbf', max_iter=-1, probability=False, random_state=None,\n  shrinking=True, tol=0.001, verbose=False),\n       fit_params=None, iid='warn', n_jobs=3,\n       param_grid=[{'kernel': ['rbf'], 'gamma': [0.001, 0.0001], 'C': [0.1, 1]}, {'kernel': ['linear'], 'C': [0.01, 0.1, 1]}, {'kernel': ['poly'], 'C': [0.01, 0.1], 'degree': [3, 4], 'coef0': [0.1, 0.5]}],\n       pre_dispatch='2*n_jobs', refit=True, return_train_score=True,\n       scoring='f1', verbose=0)"
      ]
     },
     "execution_count": 5,
     "metadata": {},
     "output_type": "execute_result"
    }
   ],
   "source": [
    "grid_search = GridSearchCV(clf, tuned_parameters, scoring='f1',\n",
    "                           cv=10, return_train_score=True, n_jobs=3)\n",
    "grid_search.fit(X_train, y_train)\n"
   ]
  },
  {
   "cell_type": "heading",
   "metadata": {},
   "level": 3,
   "source": [
    "Best model evaluation"
   ]
  },
  {
   "cell_type": "code",
   "execution_count": 13,
   "metadata": {},
   "outputs": [
    {
     "name": "stdout",
     "output_type": "stream",
     "text": [
      "{'C': 1, 'kernel': 'linear'}\n              precision    recall  f1-score   support\n\n           0       0.87      0.88      0.88       843\n           1       0.87      0.85      0.86       782\n\n   micro avg       0.87      0.87      0.87      1625\n   macro avg       0.87      0.87      0.87      1625\nweighted avg       0.87      0.87      0.87      1625\n\n"
     ]
    }
   ],
   "source": [
    "y_true, y_pred = y_test, grid_search.predict(X_test)\n",
    "\n",
    "print(grid_search.best_params_)\n",
    "report = classification_report(y_true, y_pred)\n",
    "print(report)"
   ]
  },
  {
   "cell_type": "code",
   "execution_count": 11,
   "metadata": {},
   "outputs": [
    {
     "data": {
      "text/plain": [
       "array([[746,  97],\n       [114, 668]], dtype=int64)"
      ]
     },
     "execution_count": 11,
     "metadata": {},
     "output_type": "execute_result"
    }
   ],
   "source": [
    "confusion_matrix(y_true, y_pred)"
   ]
  },
  {
   "cell_type": "heading",
   "metadata": {},
   "level": 3,
   "source": [
    "Grid Search detailed results for each params configuration"
   ]
  },
  {
   "cell_type": "code",
   "execution_count": 51,
   "metadata": {
    "collapsed": false
   },
   "outputs": [
    {
     "name": "stdout",
     "output_type": "stream",
     "text": [
      "    mean_fit_time  std_fit_time  mean_score_time  std_score_time param_C  \\\n0       10.547579      0.325011         0.736031        0.051377     0.1   \n1       10.534812      0.567531         0.738425        0.062746     0.1   \n2        5.947686      0.117515         0.450894        0.020432       1   \n3        9.706729      0.114025         0.712893        0.009322       1   \n4        3.759839      0.144940         0.263296        0.006479    0.01   \n5        3.303958      0.146280         0.213829        0.014204     0.1   \n6        5.265312      0.225599         0.218815        0.014433       1   \n7        9.835284      0.713873         0.694044        0.071563    0.01   \n8        9.306998      0.605169         0.637295        0.055834    0.01   \n9        9.356765      0.379068         0.690054        0.052139    0.01   \n10       9.823616      0.388589         0.715985        0.058978    0.01   \n11      10.137775      0.448015         0.700526        0.051927     0.1   \n12      10.395685      0.687976         0.758970        0.068181     0.1   \n13       7.031486      0.192968         0.528088        0.043560     0.1   \n14       8.078085      0.374717         0.587330        0.041400     0.1   \n\n   param_gamma param_kernel param_coef0 param_degree  \\\n0        0.001          rbf         NaN          NaN   \n1       0.0001          rbf         NaN          NaN   \n2        0.001          rbf         NaN          NaN   \n3       0.0001          rbf         NaN          NaN   \n4          NaN       linear         NaN          NaN   \n5          NaN       linear         NaN          NaN   \n6          NaN       linear         NaN          NaN   \n7          NaN         poly         0.1            3   \n8          NaN         poly         0.1            4   \n9          NaN         poly         0.5            3   \n10         NaN         poly         0.5            4   \n11         NaN         poly         0.1            3   \n12         NaN         poly         0.1            4   \n13         NaN         poly         0.5            3   \n14         NaN         poly         0.5            4   \n\n                                               params       ...         \\\n0         {'C': 0.1, 'gamma': 0.001, 'kernel': 'rbf'}       ...          \n1        {'C': 0.1, 'gamma': 0.0001, 'kernel': 'rbf'}       ...          \n2           {'C': 1, 'gamma': 0.001, 'kernel': 'rbf'}       ...          \n3          {'C': 1, 'gamma': 0.0001, 'kernel': 'rbf'}       ...          \n4                     {'C': 0.01, 'kernel': 'linear'}       ...          \n5                      {'C': 0.1, 'kernel': 'linear'}       ...          \n6                        {'C': 1, 'kernel': 'linear'}       ...          \n7   {'C': 0.01, 'coef0': 0.1, 'degree': 3, 'kernel...       ...          \n8   {'C': 0.01, 'coef0': 0.1, 'degree': 4, 'kernel...       ...          \n9   {'C': 0.01, 'coef0': 0.5, 'degree': 3, 'kernel...       ...          \n10  {'C': 0.01, 'coef0': 0.5, 'degree': 4, 'kernel...       ...          \n11  {'C': 0.1, 'coef0': 0.1, 'degree': 3, 'kernel'...       ...          \n12  {'C': 0.1, 'coef0': 0.1, 'degree': 4, 'kernel'...       ...          \n13  {'C': 0.1, 'coef0': 0.5, 'degree': 3, 'kernel'...       ...          \n14  {'C': 0.1, 'coef0': 0.5, 'degree': 4, 'kernel'...       ...          \n\n    split2_train_score  split3_train_score  split4_train_score  \\\n0             0.703539            0.706977            0.712423   \n1             0.000000            0.000000            0.000000   \n2             0.845131            0.845131            0.844401   \n3             0.714804            0.718135            0.724242   \n4             0.857281            0.859037            0.860604   \n5             0.860995            0.866432            0.866195   \n6             0.861893            0.866252            0.866592   \n7             0.000000            0.000000            0.000000   \n8             0.000000            0.000000            0.000000   \n9             0.001256            0.000628            0.001256   \n10            0.000000            0.000000            0.000000   \n11            0.000000            0.000000            0.000000   \n12            0.000000            0.000000            0.000000   \n13            0.838184            0.840647            0.837496   \n14            0.826739            0.832380            0.828932   \n\n    split5_train_score  split6_train_score  split7_train_score  \\\n0             0.707020            0.699379            0.704947   \n1             0.000000            0.000000            0.000000   \n2             0.844196            0.843448            0.845523   \n3             0.721536            0.711962            0.717861   \n4             0.857374            0.856774            0.859362   \n5             0.863462            0.862600            0.862235   \n6             0.864415            0.865557            0.864190   \n7             0.000000            0.000000            0.000000   \n8             0.000000            0.000000            0.000000   \n9             0.001256            0.000628            0.001256   \n10            0.000000            0.000000            0.000000   \n11            0.000000            0.000000            0.000000   \n12            0.000000            0.000000            0.000000   \n13            0.838742            0.836188            0.841703   \n14            0.830950            0.826891            0.831653   \n\n    split8_train_score  split9_train_score  mean_train_score  std_train_score  \n0             0.707906            0.708253          0.707043         0.005005  \n1             0.000000            0.000000          0.000000         0.000000  \n2             0.845297            0.845902          0.845556         0.001520  \n3             0.717822            0.722465          0.719482         0.004766  \n4             0.857143            0.858898          0.858656         0.001406  \n5             0.864925            0.864691          0.864144         0.001788  \n6             0.865219            0.867299          0.865240         0.001456  \n7             0.000000            0.000000          0.000000         0.000000  \n8             0.000000            0.000000          0.000000         0.000000  \n9             0.000628            0.000628          0.000942         0.000314  \n10            0.000000            0.000000          0.000000         0.000000  \n11            0.000000            0.000000          0.000000         0.000000  \n12            0.000000            0.000000          0.000000         0.000000  \n13            0.838453            0.841581          0.839792         0.002136  \n14            0.829137            0.830392          0.830458         0.002417  \n\n[15 rows x 35 columns]\n"
     ]
    }
   ],
   "source": [
    "pd.DataFrame(grid_search.cv_results_)\n",
    "print(pd.DataFrame(grid_search.cv_results_))"
   ]
  },
  {
   "cell_type": "code",
   "execution_count": 48,
   "metadata": {},
   "outputs": [],
   "source": [
    ""
   ]
  },
  {
   "cell_type": "code",
   "execution_count": null,
   "metadata": {},
   "outputs": [],
   "source": [
    "\n",
    "fpr, tpr, thresholds = roc_curve(y_test, y_pred, pos_label=1)\n",
    "roc_auc = auc(fpr, tpr)\n",
    "plt.figure()\n",
    "\n",
    "lw = 2\n",
    "plt.plot(fpr, tpr, color='darkorange',\n",
    "         lw=lw, label='ROC curve (area = %0.2f)' % roc_auc)\n",
    "plt.plot([0, 1], [0, 1], color='navy', lw=lw, linestyle='--')\n",
    "plt.xlim([0.0, 1.0])\n",
    "plt.ylim([0.0, 1.05])\n",
    "plt.xlabel('False Positive Rate')\n",
    "plt.ylabel('True Positive Rate')\n",
    "plt.title('Receiver operating characteristic example')\n",
    "plt.legend(loc=\"lower right\")\n",
    "plt.show()"
   ]
  },
  {
   "cell_type": "heading",
   "metadata": {},
   "level": 3,
   "source": []
  },
  {
   "cell_type": "code",
   "execution_count": 69,
   "metadata": {},
   "outputs": [],
   "source": [
    "clf = MLPClassifier()\n",
    "\n",
    "grid_search_nn = GridSearchCV(clf, nn_tuned_parameters, scoring='f1',\n",
    "                           cv=10, return_train_score=True, n_jobs=-1)\n",
    "grid_search_nn.fit(X_train, y_train)\n"
   ]
  },
  {
   "cell_type": "code",
   "execution_count": 1,
   "metadata": {},
   "outputs": [
    {
     "ename": "NameError",
     "evalue": "name 'y_test' is not defined",
     "traceback": [
      "\u001b[0;31m---------------------------------------------------------------------------\u001b[0m",
      "\u001b[0;31mNameError\u001b[0m                                 Traceback (most recent call last)",
      "\u001b[0;32m<ipython-input-1-39aff2b7e4f7>\u001b[0m in \u001b[0;36m<module>\u001b[0;34m()\u001b[0m\n\u001b[0;32m----> 1\u001b[0;31m \u001b[0my_true\u001b[0m\u001b[0;34m,\u001b[0m \u001b[0my_pred\u001b[0m \u001b[0;34m=\u001b[0m \u001b[0my_test\u001b[0m\u001b[0;34m,\u001b[0m \u001b[0mgrid_search_nn\u001b[0m\u001b[0;34m.\u001b[0m\u001b[0mpredict\u001b[0m\u001b[0;34m(\u001b[0m\u001b[0mX_test\u001b[0m\u001b[0;34m)\u001b[0m\u001b[0;34m\u001b[0m\u001b[0m\n\u001b[0m\u001b[1;32m      2\u001b[0m \u001b[0mprint\u001b[0m\u001b[0;34m(\u001b[0m\u001b[0mgrid_search_nn\u001b[0m\u001b[0;34m.\u001b[0m\u001b[0mbest_params_\u001b[0m\u001b[0;34m)\u001b[0m\u001b[0;34m\u001b[0m\u001b[0m\n\u001b[1;32m      3\u001b[0m \u001b[0mreport\u001b[0m \u001b[0;34m=\u001b[0m \u001b[0mclassification_report\u001b[0m\u001b[0;34m(\u001b[0m\u001b[0my_true\u001b[0m\u001b[0;34m,\u001b[0m \u001b[0my_pred\u001b[0m\u001b[0;34m)\u001b[0m\u001b[0;34m\u001b[0m\u001b[0m\n\u001b[1;32m      4\u001b[0m \u001b[0mprint\u001b[0m\u001b[0;34m(\u001b[0m\u001b[0mreport\u001b[0m\u001b[0;34m)\u001b[0m\u001b[0;34m\u001b[0m\u001b[0m\n",
      "\u001b[0;31mNameError\u001b[0m: name 'y_test' is not defined"
     ],
     "output_type": "error"
    }
   ],
   "source": [
    "y_true, y_pred = y_test, grid_search_nn.predict(X_test)\n",
    "print(grid_search_nn.best_params_)\n",
    "report = classification_report(y_true, y_pred)\n",
    "print(report)"
   ]
  },
  {
   "cell_type": "code",
   "execution_count": 67,
   "metadata": {},
   "outputs": [
    {
     "name": "stdout",
     "output_type": "stream",
     "text": [
      "   mean_fit_time  std_fit_time  mean_score_time  std_score_time  \\\n0       9.778337      0.056631         0.003690        0.000638   \n1      12.667707      0.580131         0.003889        0.000299   \n2       7.798036      0.701444         0.004488        0.000669   \n3       6.302837      0.571219         0.004887        0.000829   \n\n  param_hidden_layer_sizes                                 params  \\\n0                    (30,)          {'hidden_layer_sizes': (30,)}   \n1                    (50,)          {'hidden_layer_sizes': (50,)}   \n2                 (50, 10)       {'hidden_layer_sizes': (50, 10)}   \n3            (100, 10, 10)  {'hidden_layer_sizes': (100, 10, 10)}   \n\n   split0_test_score  split1_test_score  split2_test_score  split3_test_score  \\\n0           0.896661           0.892744           0.902516           0.876582   \n1           0.886400           0.895238           0.902087           0.897314   \n2           0.910236           0.898413           0.897314           0.889246   \n3           0.878357           0.891374           0.895899           0.875591   \n\n        ...         split2_train_score  split3_train_score  \\\n0       ...                        1.0                 1.0   \n1       ...                        1.0                 1.0   \n2       ...                        1.0                 1.0   \n3       ...                        1.0                 1.0   \n\n   split4_train_score  split5_train_score  split6_train_score  \\\n0                 1.0                 1.0                 1.0   \n1                 1.0                 1.0                 1.0   \n2                 1.0                 1.0                 1.0   \n3                 1.0                 1.0                 1.0   \n\n   split7_train_score  split8_train_score  split9_train_score  \\\n0                 1.0                 1.0                 1.0   \n1                 1.0                 1.0                 1.0   \n2                 1.0                 1.0                 1.0   \n3                 1.0                 1.0                 1.0   \n\n   mean_train_score  std_train_score  \n0               1.0              0.0  \n1               1.0              0.0  \n2               1.0              0.0  \n3               1.0              0.0  \n\n[4 rows x 31 columns]\n"
     ]
    }
   ],
   "source": [
    "print(pd.DataFrame(grid_search_nn.cv_results_))"
   ]
  }
 ],
 "metadata": {
  "kernelspec": {
   "display_name": "Python 2",
   "language": "python",
   "name": "python2"
  },
  "language_info": {
   "codemirror_mode": {
    "name": "ipython",
    "version": 2
   },
   "file_extension": ".py",
   "mimetype": "text/x-python",
   "name": "python",
   "nbconvert_exporter": "python",
   "pygments_lexer": "ipython2",
   "version": "2.7.6"
  }
 },
 "nbformat": 4,
 "nbformat_minor": 0
}
