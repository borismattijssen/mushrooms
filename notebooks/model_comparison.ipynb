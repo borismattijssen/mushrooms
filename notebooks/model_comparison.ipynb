{
 "cells": [
  {
   "cell_type": "code",
   "execution_count": null,
   "metadata": {},
   "outputs": [],
   "source": [
    "import pandas as pd\n",
    "import pickle\n",
    "from sklearn.model_selection import train_test_split\n",
    "from sklearn.metrics import roc_curve, accuracy_score, auc, roc_auc_score, classification_report\n",
    "import matplotlib.pyplot as plt\n"
   ]
  },
  {
   "cell_type": "heading",
   "metadata": {},
   "level": 1,
   "source": []
  },
  {
   "cell_type": "code",
   "execution_count": 73,
   "metadata": {
    "collapsed": true
   },
   "outputs": [],
   "source": [
    "knn = pickle.load(open(\"models/knn-high-res.p\", \"rb\"))\n",
    "rf = pickle.load(open(\"models/rf-grid-search.p\", \"rb\"))\n",
    "svm = pickle.load(open(\"models/svm.p\", \"rb\"))\n",
    "nn = pickle.load(open(\"models/nn.p\", \"rb\"))"
   ]
  },
  {
   "cell_type": "heading",
   "metadata": {},
   "level": 1,
   "source": [
    "Best params reminder"
   ]
  },
  {
   "cell_type": "code",
   "execution_count": 98,
   "metadata": {
    "collapsed": false
   },
   "outputs": [
    {
     "name": "stdout",
     "output_type": "stream",
     "text": [
      "{'n_neighbors': 29}\n{'max_depth': None, 'min_samples_leaf': 1, 'min_samples_split': 3, 'n_estimators': 2000}\n{'C': 1, 'kernel': 'linear'}\n{'alpha': 0.1, 'hidden_layer_sizes': (50,), 'max_iter': 100}\n"
     ]
    }
   ],
   "source": [
    "print(knn.best_params_)\n",
    "print(rf.best_params_)\n",
    "print(svm.best_params_)\n",
    "print(nn.best_params_)"
   ]
  },
  {
   "cell_type": "heading",
   "metadata": {},
   "level": 3,
   "source": [
    "Loading PCA data and splitting to train and evaluation set"
   ]
  },
  {
   "cell_type": "code",
   "execution_count": 87,
   "metadata": {},
   "outputs": [],
   "source": [
    "data = pd.read_csv('data/processed/mushrooms_pca.csv')\n",
    "y = data['class']\n",
    "X = data.drop('class', axis=1)\n",
    "\n",
    "X_train, X_test, y_train, y_test = \\\n",
    "        train_test_split(X, y.ravel(), test_size=.1, random_state=42)\n"
   ]
  },
  {
   "cell_type": "heading",
   "metadata": {},
   "level": 2,
   "source": [
    "Predictions for each model"
   ]
  },
  {
   "cell_type": "code",
   "execution_count": 89,
   "metadata": {},
   "outputs": [],
   "source": [
    "y_preds={}\n",
    "y_true, y_preds['knn'] = y_test, knn.predict(X_test)\n",
    "_, y_preds['rf'] = y_test, rf.predict(X_test)\n",
    "_, y_preds['svm'] = y_test, svm.predict(X_test)\n",
    "_, y_preds['nn'] = y_test, nn.predict(X_test)"
   ]
  },
  {
   "cell_type": "code",
   "execution_count": 100,
   "metadata": {},
   "outputs": [
    {
     "name": "stdout",
     "output_type": "stream",
     "text": [
      "              precision    recall  f1-score   support\n\n           0       0.87      0.92      0.89       433\n           1       0.90      0.84      0.87       380\n\n   micro avg       0.88      0.88      0.88       813\n   macro avg       0.89      0.88      0.88       813\nweighted avg       0.88      0.88      0.88       813\n\n0.8831488314883149\n              precision    recall  f1-score   support\n\n           0       1.00      1.00      1.00       433\n           1       1.00      1.00      1.00       380\n\n   micro avg       1.00      1.00      1.00       813\n   macro avg       1.00      1.00      1.00       813\nweighted avg       1.00      1.00      1.00       813\n\n1.0\n              precision    recall  f1-score   support\n\n           0       0.88      0.88      0.88       433\n           1       0.87      0.87      0.87       380\n\n   micro avg       0.87      0.87      0.87       813\n   macro avg       0.87      0.87      0.87       813\nweighted avg       0.87      0.87      0.87       813\n\n0.8745387453874539\n              precision    recall  f1-score   support\n\n           0       0.92      0.91      0.91       433\n           1       0.90      0.91      0.90       380\n\n   micro avg       0.91      0.91      0.91       813\n   macro avg       0.91      0.91      0.91       813\nweighted avg       0.91      0.91      0.91       813\n\n0.9077490774907749\n"
     ]
    }
   ],
   "source": [
    "reports = {}\n",
    "tprs ={}\n",
    "fprs ={}\n",
    "roc_aucs={}\n",
    "for classifier, y_pred in y_preds.items():\n",
    "    reports[classifier] = classification_report(y_true, y_pred)\n",
    "    fprs[classifier], tprs[classifier], _ = roc_curve(y_test, y_pred, pos_label=1)\n",
    "    roc_aucs[classifier] = auc(fprs[classifier], tprs[classifier])\n",
    "    print(reports[classifier])\n",
    "    print(accuracy_score(y_true, y_pred))\n"
   ]
  },
  {
   "cell_type": "code",
   "execution_count": null,
   "metadata": {},
   "outputs": [],
   "source": [
    "ROC - curve"
   ]
  },
  {
   "cell_type": "code",
   "execution_count": 108,
   "metadata": {},
   "outputs": [],
   "source": [
    "plt.figure()\n",
    "\n",
    "lw = 2\n",
    "for classifier, y_pred in y_preds.items():\n",
    "    plt.plot(fprs[classifier], tprs[classifier],\n",
    "             lw=lw, label='%s (area = %0.2f)' % (classifier, roc_aucs[classifier]))\n",
    "plt.plot([0, 1], [0, 1], color='navy', lw=lw, linestyle='--')\n",
    "plt.xlim([0.0, 1.0])\n",
    "plt.ylim([0.0, 1.05])\n",
    "plt.xlabel('False Positive Rate')\n",
    "plt.ylabel('True Positive Rate')\n",
    "plt.title('Receiver operating characteristic example')\n",
    "plt.legend(loc=\"lower right\")\n",
    "plt.savefig(\"C:/Users/user/Desktop/kto_ma_szkole_ten_ma_lzej/Erasm/mushrooms/reports/figures/model_comparison.png\")\n",
    "plt.show()"
   ]
  }
 ],
 "metadata": {
  "kernelspec": {
   "display_name": "Python 2",
   "language": "python",
   "name": "python2"
  },
  "language_info": {
   "codemirror_mode": {
    "name": "ipython",
    "version": 2
   },
   "file_extension": ".py",
   "mimetype": "text/x-python",
   "name": "python",
   "nbconvert_exporter": "python",
   "pygments_lexer": "ipython2",
   "version": "2.7.6"
  }
 },
 "nbformat": 4,
 "nbformat_minor": 0
}
