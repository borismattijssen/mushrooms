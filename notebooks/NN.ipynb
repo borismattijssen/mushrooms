{
 "cells": [
  {
   "cell_type": "code",
   "execution_count": 41,
   "metadata": {},
   "outputs": [],
   "source": [
    "import pandas as pd\n",
    "import numpy as np\n",
    "from sklearn.model_selection import cross_val_score\n",
    "import pickle\n",
    "from sklearn.linear_model import Perceptron\n",
    "from sklearn.model_selection import train_test_split\n",
    "from sklearn.neural_network import MLPClassifier\n",
    "from sklearn.metrics import classification_report\n",
    "from sklearn.model_selection import GridSearchCV\n",
    "import matplotlib.pyplot as plt"
   ]
  },
  {
   "cell_type": "heading",
   "metadata": {},
   "level": 2,
   "source": [
    "Grid Search NN"
   ]
  },
  {
   "cell_type": "code",
   "execution_count": null,
   "metadata": {},
   "outputs": [],
   "source": [
    "nn_tuned_parameters = [{'hidden_layer_sizes': [(,), (50,), (50, 10), (50, 10, 10)],\n",
    "                        'alpha':[0.0001,0.001,0.01,0.1,1,10], 'max_iter': range(50,200,50)}]"
   ]
  },
  {
   "cell_type": "code",
   "execution_count": null,
   "metadata": {},
   "outputs": [],
   "source": [
    "data = pd.read_csv('data/processed/mushrooms_pca.csv')\n",
    "y = data['class']\n",
    "X = data.drop('class', axis=1)\n",
    "\n",
    "X_train, X_test, y_train, y_test = \\\n",
    "        train_test_split(X, y.ravel(), test_size=.1, random_state=42)"
   ]
  },
  {
   "cell_type": "code",
   "execution_count": null,
   "metadata": {},
   "outputs": [],
   "source": [
    "clf = MLPClassifier()\n",
    "\n",
    "grid_search_nn = GridSearchCV(clf, nn_tuned_parameters, scoring='f1',\n",
    "                           cv=10, return_train_score=True, n_jobs=3)\n",
    "grid_search_nn.fit(X_train, y_train)\n"
   ]
  },
  {
   "cell_type": "code",
   "execution_count": null,
   "metadata": {},
   "outputs": [],
   "source": [
    "y_true, y_pred = y_test, grid_search_nn.predict(X_test)\n",
    "print(grid_search_nn.best_params_)\n",
    "report = classification_report(y_true, y_pred)\n",
    "print(report)"
   ]
  },
  {
   "cell_type": "code",
   "execution_count": null,
   "metadata": {},
   "outputs": [],
   "source": [
    "res=pd.DataFrame(grid_search_nn.cv_results_).sort_values('rank_test_score').reset_index(drop=True)\n",
    "res = res[['param_hidden_layer_sizes', 'param_alpha', 'param_max_iter', 'mean_test_score', 'mean_fit_time']]\n",
    "print(res.head(n=8).to_latex())\n",
    "pickle.dump(grid_search_nn, open(\"models/nn.p\", \"wb\" ) )"
   ]
  },
  {
   "cell_type": "heading",
   "metadata": {},
   "level": 2,
   "source": [
    "Simple Perceptron"
   ]
  },
  {
   "cell_type": "code",
   "execution_count": 12,
   "metadata": {},
   "outputs": [
    {
     "data": {
      "text/plain": [
       "Perceptron(alpha=0.0001, class_weight=None, early_stopping=False, eta0=1.0,\n      fit_intercept=True, max_iter=None, n_iter=None, n_iter_no_change=5,\n      n_jobs=None, penalty=None, random_state=0, shuffle=True, tol=0.001,\n      validation_fraction=0.1, verbose=0, warm_start=False)"
      ]
     },
     "execution_count": 12,
     "metadata": {},
     "output_type": "execute_result"
    }
   ],
   "source": [
    "perc = Perceptron(tol=1e-3, random_state=0)\n",
    "perc.fit(X_train, y_train)"
   ]
  },
  {
   "cell_type": "code",
   "execution_count": 24,
   "metadata": {},
   "outputs": [],
   "source": [
    "scores = cross_val_score(perc, X_train, y_train, cv=10, scoring='f1_macro')\n",
    "\n",
    "perc_f1=scores.mean()"
   ]
  },
  {
   "cell_type": "heading",
   "metadata": {},
   "level": 2,
   "source": [
    "Multilayer Perceptron GridSearch - checking number of layers influence"
   ]
  },
  {
   "cell_type": "code",
   "execution_count": 2,
   "metadata": {
    "collapsed": true
   },
   "outputs": [],
   "source": [
    "nn_tuned_parameters = [{'hidden_layer_sizes': [(50,), (50, 10), (50, 10, 10), (50, 10, 10, 10)]}]"
   ]
  },
  {
   "cell_type": "code",
   "execution_count": 4,
   "metadata": {},
   "outputs": [
    {
     "name": "stderr",
     "output_type": "stream",
     "text": [
      "C:\\Users\\user\\Desktop\\kto_ma_szkole_ten_ma_lzej\\Erasm\\mushrooms\\venv\\lib\\site-packages\\sklearn\\neural_network\\multilayer_perceptron.py:562: ConvergenceWarning: Stochastic Optimizer: Maximum iterations (200) reached and the optimization hasn't converged yet.\n  % self.max_iter, ConvergenceWarning)\n"
     ]
    },
    {
     "data": {
      "text/plain": [
       "GridSearchCV(cv=10, error_score='raise-deprecating',\n       estimator=MLPClassifier(activation='relu', alpha=0.1, batch_size='auto', beta_1=0.9,\n       beta_2=0.999, early_stopping=False, epsilon=1e-08,\n       hidden_layer_sizes=(100,), learning_rate='constant',\n       learning_rate_init=0.001, max_iter=200, momentum=0.9,\n       n_iter_no_change=10, nesterovs_momentum=True, power_t=0.5,\n       random_state=None, shuffle=True, solver='adam', tol=0.0001,\n       validation_fraction=0.1, verbose=False, warm_start=False),\n       fit_params=None, iid='warn', n_jobs=3,\n       param_grid=[{'hidden_layer_sizes': [(50,), (50, 10), (50, 10, 10), (50, 10, 10, 10)]}],\n       pre_dispatch='2*n_jobs', refit=True, return_train_score=True,\n       scoring='f1', verbose=0)"
      ]
     },
     "execution_count": 4,
     "metadata": {},
     "output_type": "execute_result"
    }
   ],
   "source": [
    "clf = MLPClassifier(alpha=0.1)\n",
    "\n",
    "grid_search_nn = GridSearchCV(clf, nn_tuned_parameters, scoring='f1',\n",
    "                           cv=10, return_train_score=True, n_jobs=3)\n",
    "grid_search_nn.fit(X_train, y_train)\n"
   ]
  },
  {
   "cell_type": "code",
   "execution_count": 6,
   "metadata": {},
   "outputs": [
    {
     "name": "stdout",
     "output_type": "stream",
     "text": [
      "\\begin{tabular}{llrr}\n\\toprule\n{} & param\\_hidden\\_layer\\_sizes &  mean\\_test\\_score &  mean\\_fit\\_time \\\\\n\\midrule\n0 &                    (50,) &         0.903014 &      14.816777 \\\\\n1 &                 (50, 10) &         0.891997 &      11.748389 \\\\\n2 &         (50, 10, 10, 10) &         0.891776 &       9.132103 \\\\\n3 &             (50, 10, 10) &         0.887333 &       9.098660 \\\\\n\\bottomrule\n\\end{tabular}\n\n"
     ]
    }
   ],
   "source": [
    "res=pd.DataFrame(grid_search_nn.cv_results_).sort_values('rank_test_score').reset_index(drop=True)\n",
    "res = res[['param_hidden_layer_sizes', 'mean_test_score', 'mean_fit_time']]\n",
    "print(res.head(n=8).to_latex())\n"
   ]
  },
  {
   "cell_type": "code",
   "execution_count": 49,
   "metadata": {
    "collapsed": true
   },
   "outputs": [],
   "source": [
    "f1scores = np.array(res['mean_test_score'])\n",
    "plt.plot(list(range(0,len(f1scores)+1)), np.insert(f1scores,0, perc_f1))\n",
    "plt.xlabel('Number of hidden layers')\n",
    "plt.ylabel('f1 score')\n",
    "plt.title('MLP classifier performance')\n",
    "plt.show()"
   ]
  }
 ],
 "metadata": {
  "kernelspec": {
   "display_name": "Python 2",
   "language": "python",
   "name": "python2"
  },
  "language_info": {
   "codemirror_mode": {
    "name": "ipython",
    "version": 2
   },
   "file_extension": ".py",
   "mimetype": "text/x-python",
   "name": "python",
   "nbconvert_exporter": "python",
   "pygments_lexer": "ipython2",
   "version": "2.7.6"
  }
 },
 "nbformat": 4,
 "nbformat_minor": 0
}
