{
 "cells": [
  {
   "cell_type": "code",
   "execution_count": 22,
   "metadata": {},
   "outputs": [],
   "source": [
    "import pandas as pd\n",
    "import numpy as np\n",
    "from sklearn.decomposition import PCA\n",
    "import matplotlib.pyplot as plt\n",
    "import seaborn as sns\n",
    "\n",
    "from sklearn.neighbors import KNeighborsClassifier\n",
    "from sklearn.model_selection import KFold\n",
    "from sklearn.metrics import f1_score, accuracy_score"
   ]
  },
  {
   "cell_type": "code",
   "execution_count": 13,
   "metadata": {},
   "outputs": [
    {
     "data": {
      "text/plain": [
       "array([[ 0.24373845,  0.16963259,  0.18727096, ..., -0.2621439 ,\n",
       "        -0.04811481,  0.10087257],\n",
       "       [ 1.5713711 , -0.39656834,  0.45390158, ..., -0.11453773,\n",
       "         0.41043087, -0.28486641],\n",
       "       [ 0.01171017,  0.71284725, -0.7501287 , ...,  0.00313137,\n",
       "        -0.25922659, -0.06733154],\n",
       "       ...,\n",
       "       [-0.89697748, -0.1697835 ,  0.3055329 , ...,  0.53583814,\n",
       "         0.06813399, -0.06614521],\n",
       "       [-1.88993255, -0.39236622, -0.58529202, ...,  0.1682014 ,\n",
       "         0.37251319, -0.41726506],\n",
       "       [ 0.66668421,  0.4509778 , -0.09989701, ..., -0.18299176,\n",
       "        -0.0747118 , -0.36911983]])"
      ]
     },
     "execution_count": 13,
     "metadata": {},
     "output_type": "execute_result"
    }
   ],
   "source": [
    "df = pd.read_csv('../data/processed/mushrooms_pca.csv')\n",
    "y = df['class']\n",
    "X = df.drop(columns=['class']).values\n",
    "X.view()"
   ]
  },
  {
   "cell_type": "markdown",
   "metadata": {},
   "source": [
    "## Grid Search"
   ]
  },
  {
   "cell_type": "code",
   "execution_count": 27,
   "metadata": {},
   "outputs": [],
   "source": [
    "from sklearn.model_selection import GridSearchCV"
   ]
  },
  {
   "cell_type": "code",
   "execution_count": 80,
   "metadata": {},
   "outputs": [
    {
     "data": {
      "text/plain": [
       "GridSearchCV(cv=10, error_score='raise-deprecating',\n",
       "       estimator=KNeighborsClassifier(algorithm='auto', leaf_size=30, metric='minkowski',\n",
       "           metric_params=None, n_jobs=None, n_neighbors=5, p=2,\n",
       "           weights='uniform'),\n",
       "       fit_params=None, iid='warn', n_jobs=-1,\n",
       "       param_grid={'n_neighbors': range(5, 51, 4)},\n",
       "       pre_dispatch='2*n_jobs', refit=True, return_train_score='warn',\n",
       "       scoring='f1', verbose=0)"
      ]
     },
     "execution_count": 80,
     "metadata": {},
     "output_type": "execute_result"
    }
   ],
   "source": [
    "parameters = {'n_neighbors': range(5,51,4)}\n",
    "knn = KNeighborsClassifier()\n",
    "clf = GridSearchCV(knn, parameters, scoring='f1', cv=10, n_jobs=-1)\n",
    "clf.fit(X, y)"
   ]
  },
  {
   "cell_type": "code",
   "execution_count": 81,
   "metadata": {},
   "outputs": [
    {
     "name": "stdout",
     "output_type": "stream",
     "text": [
      "KNeighborsClassifier(algorithm='auto', leaf_size=30, metric='minkowski',\n",
      "           metric_params=None, n_jobs=None, n_neighbors=29, p=2,\n",
      "           weights='uniform')\n",
      "0.8033618126892508\n"
     ]
    }
   ],
   "source": [
    "print(clf.best_estimator_)\n",
    "print(clf.best_score_)"
   ]
  },
  {
   "cell_type": "code",
   "execution_count": 82,
   "metadata": {},
   "outputs": [],
   "source": [
    "import pickle\n",
    "pickle.dump(clf, open( \"../models/knn-7.p\", \"wb\" ) )"
   ]
  },
  {
   "cell_type": "code",
   "execution_count": 83,
   "metadata": {},
   "outputs": [
    {
     "name": "stderr",
     "output_type": "stream",
     "text": [
      "/usr/local/lib/python3.7/site-packages/sklearn/utils/deprecation.py:125: FutureWarning: You are accessing a training score ('split0_train_score'), which will not be available by default any more in 0.21. If you need training scores, please set return_train_score=True\n",
      "  warnings.warn(*warn_args, **warn_kwargs)\n",
      "/usr/local/lib/python3.7/site-packages/sklearn/utils/deprecation.py:125: FutureWarning: You are accessing a training score ('split1_train_score'), which will not be available by default any more in 0.21. If you need training scores, please set return_train_score=True\n",
      "  warnings.warn(*warn_args, **warn_kwargs)\n",
      "/usr/local/lib/python3.7/site-packages/sklearn/utils/deprecation.py:125: FutureWarning: You are accessing a training score ('split2_train_score'), which will not be available by default any more in 0.21. If you need training scores, please set return_train_score=True\n",
      "  warnings.warn(*warn_args, **warn_kwargs)\n",
      "/usr/local/lib/python3.7/site-packages/sklearn/utils/deprecation.py:125: FutureWarning: You are accessing a training score ('split3_train_score'), which will not be available by default any more in 0.21. If you need training scores, please set return_train_score=True\n",
      "  warnings.warn(*warn_args, **warn_kwargs)\n",
      "/usr/local/lib/python3.7/site-packages/sklearn/utils/deprecation.py:125: FutureWarning: You are accessing a training score ('split4_train_score'), which will not be available by default any more in 0.21. If you need training scores, please set return_train_score=True\n",
      "  warnings.warn(*warn_args, **warn_kwargs)\n",
      "/usr/local/lib/python3.7/site-packages/sklearn/utils/deprecation.py:125: FutureWarning: You are accessing a training score ('split5_train_score'), which will not be available by default any more in 0.21. If you need training scores, please set return_train_score=True\n",
      "  warnings.warn(*warn_args, **warn_kwargs)\n",
      "/usr/local/lib/python3.7/site-packages/sklearn/utils/deprecation.py:125: FutureWarning: You are accessing a training score ('split6_train_score'), which will not be available by default any more in 0.21. If you need training scores, please set return_train_score=True\n",
      "  warnings.warn(*warn_args, **warn_kwargs)\n",
      "/usr/local/lib/python3.7/site-packages/sklearn/utils/deprecation.py:125: FutureWarning: You are accessing a training score ('split7_train_score'), which will not be available by default any more in 0.21. If you need training scores, please set return_train_score=True\n",
      "  warnings.warn(*warn_args, **warn_kwargs)\n",
      "/usr/local/lib/python3.7/site-packages/sklearn/utils/deprecation.py:125: FutureWarning: You are accessing a training score ('split8_train_score'), which will not be available by default any more in 0.21. If you need training scores, please set return_train_score=True\n",
      "  warnings.warn(*warn_args, **warn_kwargs)\n",
      "/usr/local/lib/python3.7/site-packages/sklearn/utils/deprecation.py:125: FutureWarning: You are accessing a training score ('split9_train_score'), which will not be available by default any more in 0.21. If you need training scores, please set return_train_score=True\n",
      "  warnings.warn(*warn_args, **warn_kwargs)\n",
      "/usr/local/lib/python3.7/site-packages/sklearn/utils/deprecation.py:125: FutureWarning: You are accessing a training score ('mean_train_score'), which will not be available by default any more in 0.21. If you need training scores, please set return_train_score=True\n",
      "  warnings.warn(*warn_args, **warn_kwargs)\n",
      "/usr/local/lib/python3.7/site-packages/sklearn/utils/deprecation.py:125: FutureWarning: You are accessing a training score ('std_train_score'), which will not be available by default any more in 0.21. If you need training scores, please set return_train_score=True\n",
      "  warnings.warn(*warn_args, **warn_kwargs)\n"
     ]
    },
    {
     "data": {
      "text/html": [
       "<div>\n",
       "<style scoped>\n",
       "    .dataframe tbody tr th:only-of-type {\n",
       "        vertical-align: middle;\n",
       "    }\n",
       "\n",
       "    .dataframe tbody tr th {\n",
       "        vertical-align: top;\n",
       "    }\n",
       "\n",
       "    .dataframe thead th {\n",
       "        text-align: right;\n",
       "    }\n",
       "</style>\n",
       "<table border=\"1\" class=\"dataframe\">\n",
       "  <thead>\n",
       "    <tr style=\"text-align: right;\">\n",
       "      <th></th>\n",
       "      <th>mean_fit_time</th>\n",
       "      <th>std_fit_time</th>\n",
       "      <th>mean_score_time</th>\n",
       "      <th>std_score_time</th>\n",
       "      <th>param_n_neighbors</th>\n",
       "      <th>params</th>\n",
       "      <th>split0_test_score</th>\n",
       "      <th>split1_test_score</th>\n",
       "      <th>split2_test_score</th>\n",
       "      <th>split3_test_score</th>\n",
       "      <th>...</th>\n",
       "      <th>split2_train_score</th>\n",
       "      <th>split3_train_score</th>\n",
       "      <th>split4_train_score</th>\n",
       "      <th>split5_train_score</th>\n",
       "      <th>split6_train_score</th>\n",
       "      <th>split7_train_score</th>\n",
       "      <th>split8_train_score</th>\n",
       "      <th>split9_train_score</th>\n",
       "      <th>mean_train_score</th>\n",
       "      <th>std_train_score</th>\n",
       "    </tr>\n",
       "  </thead>\n",
       "  <tbody>\n",
       "    <tr>\n",
       "      <th>0</th>\n",
       "      <td>0.124431</td>\n",
       "      <td>0.026206</td>\n",
       "      <td>3.652681</td>\n",
       "      <td>0.033359</td>\n",
       "      <td>5</td>\n",
       "      <td>{'n_neighbors': 5}</td>\n",
       "      <td>0.515298</td>\n",
       "      <td>0.750000</td>\n",
       "      <td>0.857862</td>\n",
       "      <td>0.862291</td>\n",
       "      <td>...</td>\n",
       "      <td>0.885999</td>\n",
       "      <td>0.884782</td>\n",
       "      <td>0.893777</td>\n",
       "      <td>0.894828</td>\n",
       "      <td>0.885483</td>\n",
       "      <td>0.889306</td>\n",
       "      <td>0.894323</td>\n",
       "      <td>0.890017</td>\n",
       "      <td>0.892305</td>\n",
       "      <td>0.006354</td>\n",
       "    </tr>\n",
       "    <tr>\n",
       "      <th>1</th>\n",
       "      <td>0.104312</td>\n",
       "      <td>0.015293</td>\n",
       "      <td>3.812370</td>\n",
       "      <td>0.202859</td>\n",
       "      <td>9</td>\n",
       "      <td>{'n_neighbors': 9}</td>\n",
       "      <td>0.491694</td>\n",
       "      <td>0.773154</td>\n",
       "      <td>0.876747</td>\n",
       "      <td>0.875969</td>\n",
       "      <td>...</td>\n",
       "      <td>0.871758</td>\n",
       "      <td>0.871146</td>\n",
       "      <td>0.878744</td>\n",
       "      <td>0.881184</td>\n",
       "      <td>0.874436</td>\n",
       "      <td>0.872600</td>\n",
       "      <td>0.880483</td>\n",
       "      <td>0.876540</td>\n",
       "      <td>0.879094</td>\n",
       "      <td>0.007865</td>\n",
       "    </tr>\n",
       "    <tr>\n",
       "      <th>2</th>\n",
       "      <td>0.095203</td>\n",
       "      <td>0.011380</td>\n",
       "      <td>4.072282</td>\n",
       "      <td>0.041324</td>\n",
       "      <td>13</td>\n",
       "      <td>{'n_neighbors': 13}</td>\n",
       "      <td>0.488136</td>\n",
       "      <td>0.782967</td>\n",
       "      <td>0.876884</td>\n",
       "      <td>0.892068</td>\n",
       "      <td>...</td>\n",
       "      <td>0.864611</td>\n",
       "      <td>0.863630</td>\n",
       "      <td>0.875219</td>\n",
       "      <td>0.871157</td>\n",
       "      <td>0.866520</td>\n",
       "      <td>0.865055</td>\n",
       "      <td>0.874166</td>\n",
       "      <td>0.872340</td>\n",
       "      <td>0.872623</td>\n",
       "      <td>0.008547</td>\n",
       "    </tr>\n",
       "    <tr>\n",
       "      <th>3</th>\n",
       "      <td>0.115569</td>\n",
       "      <td>0.021750</td>\n",
       "      <td>4.408835</td>\n",
       "      <td>0.152479</td>\n",
       "      <td>17</td>\n",
       "      <td>{'n_neighbors': 17}</td>\n",
       "      <td>0.475382</td>\n",
       "      <td>0.777931</td>\n",
       "      <td>0.881313</td>\n",
       "      <td>0.886866</td>\n",
       "      <td>...</td>\n",
       "      <td>0.861058</td>\n",
       "      <td>0.863536</td>\n",
       "      <td>0.867969</td>\n",
       "      <td>0.866519</td>\n",
       "      <td>0.860304</td>\n",
       "      <td>0.862919</td>\n",
       "      <td>0.871131</td>\n",
       "      <td>0.864520</td>\n",
       "      <td>0.868009</td>\n",
       "      <td>0.008191</td>\n",
       "    </tr>\n",
       "    <tr>\n",
       "      <th>4</th>\n",
       "      <td>0.092216</td>\n",
       "      <td>0.006314</td>\n",
       "      <td>3.706356</td>\n",
       "      <td>0.027537</td>\n",
       "      <td>21</td>\n",
       "      <td>{'n_neighbors': 21}</td>\n",
       "      <td>0.468750</td>\n",
       "      <td>0.784916</td>\n",
       "      <td>0.885787</td>\n",
       "      <td>0.884265</td>\n",
       "      <td>...</td>\n",
       "      <td>0.855667</td>\n",
       "      <td>0.855585</td>\n",
       "      <td>0.866598</td>\n",
       "      <td>0.863390</td>\n",
       "      <td>0.858326</td>\n",
       "      <td>0.859970</td>\n",
       "      <td>0.865930</td>\n",
       "      <td>0.859312</td>\n",
       "      <td>0.863766</td>\n",
       "      <td>0.008531</td>\n",
       "    </tr>\n",
       "  </tbody>\n",
       "</table>\n",
       "<p>5 rows × 31 columns</p>\n",
       "</div>"
      ],
      "text/plain": [
       "   mean_fit_time  std_fit_time  mean_score_time  std_score_time  \\\n",
       "0       0.124431      0.026206         3.652681        0.033359   \n",
       "1       0.104312      0.015293         3.812370        0.202859   \n",
       "2       0.095203      0.011380         4.072282        0.041324   \n",
       "3       0.115569      0.021750         4.408835        0.152479   \n",
       "4       0.092216      0.006314         3.706356        0.027537   \n",
       "\n",
       "  param_n_neighbors               params  split0_test_score  \\\n",
       "0                 5   {'n_neighbors': 5}           0.515298   \n",
       "1                 9   {'n_neighbors': 9}           0.491694   \n",
       "2                13  {'n_neighbors': 13}           0.488136   \n",
       "3                17  {'n_neighbors': 17}           0.475382   \n",
       "4                21  {'n_neighbors': 21}           0.468750   \n",
       "\n",
       "   split1_test_score  split2_test_score  split3_test_score       ...         \\\n",
       "0           0.750000           0.857862           0.862291       ...          \n",
       "1           0.773154           0.876747           0.875969       ...          \n",
       "2           0.782967           0.876884           0.892068       ...          \n",
       "3           0.777931           0.881313           0.886866       ...          \n",
       "4           0.784916           0.885787           0.884265       ...          \n",
       "\n",
       "   split2_train_score  split3_train_score  split4_train_score  \\\n",
       "0            0.885999            0.884782            0.893777   \n",
       "1            0.871758            0.871146            0.878744   \n",
       "2            0.864611            0.863630            0.875219   \n",
       "3            0.861058            0.863536            0.867969   \n",
       "4            0.855667            0.855585            0.866598   \n",
       "\n",
       "   split5_train_score  split6_train_score  split7_train_score  \\\n",
       "0            0.894828            0.885483            0.889306   \n",
       "1            0.881184            0.874436            0.872600   \n",
       "2            0.871157            0.866520            0.865055   \n",
       "3            0.866519            0.860304            0.862919   \n",
       "4            0.863390            0.858326            0.859970   \n",
       "\n",
       "   split8_train_score  split9_train_score  mean_train_score  std_train_score  \n",
       "0            0.894323            0.890017          0.892305         0.006354  \n",
       "1            0.880483            0.876540          0.879094         0.007865  \n",
       "2            0.874166            0.872340          0.872623         0.008547  \n",
       "3            0.871131            0.864520          0.868009         0.008191  \n",
       "4            0.865930            0.859312          0.863766         0.008531  \n",
       "\n",
       "[5 rows x 31 columns]"
      ]
     },
     "execution_count": 83,
     "metadata": {},
     "output_type": "execute_result"
    }
   ],
   "source": [
    "results = pd.DataFrame(clf.cv_results_)\n",
    "results.head()"
   ]
  },
  {
   "cell_type": "code",
   "execution_count": 84,
   "metadata": {},
   "outputs": [
    {
     "data": {
      "text/plain": [
       "Text(0.5, 1.0, 'k-NN performance')"
      ]
     },
     "execution_count": 84,
     "metadata": {},
     "output_type": "execute_result"
    },
    {
     "data": {
      "image/png": "[encoded data removed]",
      "text/plain": [
       "<Figure size 432x288 with 1 Axes>"
      ]
     },
     "metadata": {
      "needs_background": "light"
     },
     "output_type": "display_data"
    }
   ],
   "source": [
    "neighbors = list(map(lambda x: x['n_neighbors'] ,results['params']))\n",
    "f1scores = results['mean_test_score']\n",
    "plt.plot(neighbors, f1scores)\n",
    "plt.xlabel('number of neighbors')\n",
    "plt.ylabel('f1 score')\n",
    "plt.title('k-NN performance')"
   ]
  },
  {
   "cell_type": "code",
   "execution_count": null,
   "metadata": {},
   "outputs": [],
   "source": []
  }
 ],
 "metadata": {
  "kernelspec": {
   "display_name": "Python 3",
   "language": "python",
   "name": "python3"
  },
  "language_info": {
   "codemirror_mode": {
    "name": "ipython",
    "version": 3
   },
   "file_extension": ".py",
   "mimetype": "text/x-python",
   "name": "python",
   "nbconvert_exporter": "python",
   "pygments_lexer": "ipython3",
   "version": "3.7.0"
  }
 },
 "nbformat": 4,
 "nbformat_minor": 2
}
