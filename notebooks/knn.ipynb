{
 "cells": [
  {
   "cell_type": "code",
   "execution_count": 24,
   "metadata": {},
   "outputs": [],
   "source": [
    "import pandas as pd\n",
    "import numpy as np\n",
    "from sklearn.decomposition import PCA\n",
    "import matplotlib.pyplot as plt\n",
    "import seaborn as sns\n",
    "from sklearn.model_selection import train_test_split\n",
    "from sklearn.neighbors import KNeighborsClassifier\n",
    "from sklearn.model_selection import KFold\n",
    "from sklearn.metrics import f1_score, accuracy_score, confusion_matrix"
   ]
  },
  {
   "cell_type": "code",
   "execution_count": 6,
   "metadata": {},
   "outputs": [
    {
     "data": {
      "text/plain": [
       "array([[ 0.24373845,  0.16963259,  0.18727096, ..., -0.2621439 ,\n        -0.04811481,  0.10087257],\n       [ 1.5713711 , -0.39656834,  0.45390158, ..., -0.11453773,\n         0.41043087, -0.28486641],\n       [ 0.01171017,  0.71284725, -0.7501287 , ...,  0.00313137,\n        -0.25922659, -0.06733154],\n       ...,\n       [-0.89697748, -0.1697835 ,  0.3055329 , ...,  0.53583814,\n         0.06813399, -0.06614521],\n       [-1.88993255, -0.39236622, -0.58529202, ...,  0.1682014 ,\n         0.37251319, -0.41726506],\n       [ 0.66668421,  0.4509778 , -0.09989701, ..., -0.18299176,\n        -0.0747118 , -0.36911983]])"
      ]
     },
     "execution_count": 6,
     "metadata": {},
     "output_type": "execute_result"
    }
   ],
   "source": [
    "df = pd.read_csv('data/processed/mushrooms_pca.csv')\n",
    "y = df['class']\n",
    "X = df.drop(columns=['class']).values\n",
    "X.view()"
   ]
  },
  {
   "cell_type": "markdown",
   "metadata": {},
   "source": [
    "## Grid Search"
   ]
  },
  {
   "cell_type": "code",
   "execution_count": 8,
   "metadata": {},
   "outputs": [],
   "source": [
    "from sklearn.model_selection import GridSearchCV"
   ]
  },
  {
   "cell_type": "code",
   "execution_count": 12,
   "metadata": {},
   "outputs": [
    {
     "data": {
      "text/plain": [
       "GridSearchCV(cv=10, error_score='raise-deprecating',\n       estimator=KNeighborsClassifier(algorithm='auto', leaf_size=30, metric='minkowski',\n           metric_params=None, n_jobs=None, n_neighbors=5, p=2,\n           weights='uniform'),\n       fit_params=None, iid='warn', n_jobs=3,\n       param_grid={'n_neighbors': range(5, 51, 4)},\n       pre_dispatch='2*n_jobs', refit=True, return_train_score='warn',\n       scoring='f1', verbose=0)"
      ]
     },
     "execution_count": 12,
     "metadata": {},
     "output_type": "execute_result"
    }
   ],
   "source": [
    "parameters = {'n_neighbors': range(5,51,4)}\n",
    "knn = KNeighborsClassifier()\n",
    "clf = GridSearchCV(knn, parameters, scoring='f1', cv=10, n_jobs=3)\n",
    "clf.fit(X_train, y_train)"
   ]
  },
  {
   "cell_type": "code",
   "execution_count": 13,
   "metadata": {},
   "outputs": [
    {
     "name": "stdout",
     "output_type": "stream",
     "text": [
      "KNeighborsClassifier(algorithm='auto', leaf_size=30, metric='minkowski',\n           metric_params=None, n_jobs=None, n_neighbors=25, p=2,\n           weights='uniform')\n0.840839337597152\n"
     ]
    }
   ],
   "source": [
    "print(clf.best_estimator_)\n",
    "print(clf.best_score_)"
   ]
  },
  {
   "cell_type": "code",
   "execution_count": 11,
   "metadata": {},
   "outputs": [],
   "source": [
    "X_train, X_test, y_train, y_test = \\\n",
    "        train_test_split(X, y.ravel(), test_size=.1, random_state=42)"
   ]
  },
  {
   "cell_type": "code",
   "execution_count": 14,
   "metadata": {},
   "outputs": [],
   "source": [
    "import pickle\n",
    "pickle.dump(clf, open(\"models/knn-high-res.p\", \"wb\" ) )"
   ]
  },
  {
   "cell_type": "code",
   "execution_count": 16,
   "metadata": {},
   "outputs": [
    {
     "name": "stdout",
     "output_type": "stream",
     "text": [
      "   mean_fit_time  std_fit_time  mean_score_time  std_score_time  \\\n0       0.069572      0.005172         1.663486        0.121639   \n1       0.066175      0.005642         1.572018        0.055929   \n2       0.075498      0.018433         1.665307        0.112641   \n3       0.065529      0.002129         1.563478        0.059176   \n4       0.063630      0.004631         1.535010        0.008876   \n\n  param_n_neighbors               params  split0_test_score  \\\n0                 5   {'n_neighbors': 5}           0.794760   \n1                 9   {'n_neighbors': 9}           0.797080   \n2                13  {'n_neighbors': 13}           0.800582   \n3                17  {'n_neighbors': 17}           0.797654   \n4                21  {'n_neighbors': 21}           0.808955   \n\n   split1_test_score  split2_test_score  split3_test_score       ...         \\\n0           0.813953           0.836676           0.819103       ...          \n1           0.809524           0.851312           0.840580       ...          \n2           0.829851           0.856725           0.842857       ...          \n3           0.838519           0.859649           0.827286       ...          \n4           0.848665           0.860908           0.837209       ...          \n\n   split2_train_score  split3_train_score  split4_train_score  \\\n0            0.885545            0.885550            0.893481   \n1            0.874356            0.873868            0.876434   \n2            0.871795            0.868703            0.871795   \n3            0.862828            0.864592            0.866894   \n4            0.857423            0.858637            0.864258   \n\n   split5_train_score  split6_train_score  split7_train_score  \\\n0            0.889813            0.888072            0.888569   \n1            0.876535            0.875623            0.873689   \n2            0.871229            0.871213            0.873824   \n3            0.867262            0.865842            0.867599   \n4            0.866471            0.863644            0.864935   \n\n   split8_train_score  split9_train_score  mean_train_score  std_train_score  \n0            0.890560            0.887713          0.889343         0.002684  \n1            0.877193            0.872739          0.875395         0.001513  \n2            0.872268            0.870795          0.871602         0.001325  \n3            0.869157            0.870304          0.866253         0.002344  \n4            0.866201            0.861488          0.862965         0.003039  \n\n[5 rows x 31 columns]\n"
     ]
    },
    {
     "name": "stderr",
     "output_type": "stream",
     "text": [
      "C:\\Users\\user\\Desktop\\kto_ma_szkole_ten_ma_lzej\\Erasm\\mushrooms\\venv\\lib\\site-packages\\sklearn\\utils\\deprecation.py:125: FutureWarning: You are accessing a training score ('split0_train_score'), which will not be available by default any more in 0.21. If you need training scores, please set return_train_score=True\n  warnings.warn(*warn_args, **warn_kwargs)\nC:\\Users\\user\\Desktop\\kto_ma_szkole_ten_ma_lzej\\Erasm\\mushrooms\\venv\\lib\\site-packages\\sklearn\\utils\\deprecation.py:125: FutureWarning: You are accessing a training score ('split1_train_score'), which will not be available by default any more in 0.21. If you need training scores, please set return_train_score=True\n  warnings.warn(*warn_args, **warn_kwargs)\nC:\\Users\\user\\Desktop\\kto_ma_szkole_ten_ma_lzej\\Erasm\\mushrooms\\venv\\lib\\site-packages\\sklearn\\utils\\deprecation.py:125: FutureWarning: You are accessing a training score ('split2_train_score'), which will not be available by default any more in 0.21. If you need training scores, please set return_train_score=True\n  warnings.warn(*warn_args, **warn_kwargs)\nC:\\Users\\user\\Desktop\\kto_ma_szkole_ten_ma_lzej\\Erasm\\mushrooms\\venv\\lib\\site-packages\\sklearn\\utils\\deprecation.py:125: FutureWarning: You are accessing a training score ('split3_train_score'), which will not be available by default any more in 0.21. If you need training scores, please set return_train_score=True\n  warnings.warn(*warn_args, **warn_kwargs)\nC:\\Users\\user\\Desktop\\kto_ma_szkole_ten_ma_lzej\\Erasm\\mushrooms\\venv\\lib\\site-packages\\sklearn\\utils\\deprecation.py:125: FutureWarning: You are accessing a training score ('split4_train_score'), which will not be available by default any more in 0.21. If you need training scores, please set return_train_score=True\n  warnings.warn(*warn_args, **warn_kwargs)\nC:\\Users\\user\\Desktop\\kto_ma_szkole_ten_ma_lzej\\Erasm\\mushrooms\\venv\\lib\\site-packages\\sklearn\\utils\\deprecation.py:125: FutureWarning: You are accessing a training score ('split5_train_score'), which will not be available by default any more in 0.21. If you need training scores, please set return_train_score=True\n  warnings.warn(*warn_args, **warn_kwargs)\nC:\\Users\\user\\Desktop\\kto_ma_szkole_ten_ma_lzej\\Erasm\\mushrooms\\venv\\lib\\site-packages\\sklearn\\utils\\deprecation.py:125: FutureWarning: You are accessing a training score ('split6_train_score'), which will not be available by default any more in 0.21. If you need training scores, please set return_train_score=True\n  warnings.warn(*warn_args, **warn_kwargs)\nC:\\Users\\user\\Desktop\\kto_ma_szkole_ten_ma_lzej\\Erasm\\mushrooms\\venv\\lib\\site-packages\\sklearn\\utils\\deprecation.py:125: FutureWarning: You are accessing a training score ('split7_train_score'), which will not be available by default any more in 0.21. If you need training scores, please set return_train_score=True\n  warnings.warn(*warn_args, **warn_kwargs)\nC:\\Users\\user\\Desktop\\kto_ma_szkole_ten_ma_lzej\\Erasm\\mushrooms\\venv\\lib\\site-packages\\sklearn\\utils\\deprecation.py:125: FutureWarning: You are accessing a training score ('split8_train_score'), which will not be available by default any more in 0.21. If you need training scores, please set return_train_score=True\n  warnings.warn(*warn_args, **warn_kwargs)\nC:\\Users\\user\\Desktop\\kto_ma_szkole_ten_ma_lzej\\Erasm\\mushrooms\\venv\\lib\\site-packages\\sklearn\\utils\\deprecation.py:125: FutureWarning: You are accessing a training score ('split9_train_score'), which will not be available by default any more in 0.21. If you need training scores, please set return_train_score=True\n  warnings.warn(*warn_args, **warn_kwargs)\nC:\\Users\\user\\Desktop\\kto_ma_szkole_ten_ma_lzej\\Erasm\\mushrooms\\venv\\lib\\site-packages\\sklearn\\utils\\deprecation.py:125: FutureWarning: You are accessing a training score ('mean_train_score'), which will not be available by default any more in 0.21. If you need training scores, please set return_train_score=True\n  warnings.warn(*warn_args, **warn_kwargs)\nC:\\Users\\user\\Desktop\\kto_ma_szkole_ten_ma_lzej\\Erasm\\mushrooms\\venv\\lib\\site-packages\\sklearn\\utils\\deprecation.py:125: FutureWarning: You are accessing a training score ('std_train_score'), which will not be available by default any more in 0.21. If you need training scores, please set return_train_score=True\n  warnings.warn(*warn_args, **warn_kwargs)\n"
     ]
    }
   ],
   "source": [
    "results = pd.DataFrame(clf.cv_results_)\n",
    "print(results.head())"
   ]
  },
  {
   "cell_type": "code",
   "execution_count": 21,
   "metadata": {},
   "outputs": [
    {
     "name": "stdout",
     "output_type": "stream",
     "text": [
      "0     0.816860\n1     0.823958\n2     0.833968\n3     0.834367\n4     0.837949\n5     0.840839\n6     0.837531\n7     0.838565\n8     0.838662\n9     0.835975\n10    0.832866\n11    0.833785\nName: mean_test_score, dtype: float64\n"
     ]
    }
   ],
   "source": [
    "neighbors = list(map(lambda x: x['n_neighbors'] ,results['params']))\n",
    "f1scores = results['mean_test_score']\n",
    "print(f1scores)\n",
    "plt.plot(neighbors, f1scores)\n",
    "plt.xlabel('number of neighbors')\n",
    "plt.ylabel('f1 score')\n",
    "plt.title('k-NN performance')\n",
    "plt.savefig(\"C:/Users/user/Desktop/kto_ma_szkole_ten_ma_lzej/Erasm/mushrooms/reports/figures/knn-high-res.png\")\n",
    "plt.show()"
   ]
  },
  {
   "cell_type": "code",
   "execution_count": 28,
   "metadata": {},
   "outputs": [
    {
     "ename": "TypeError",
     "evalue": "'numpy.ndarray' object is not callable",
     "traceback": [
      "\u001b[0;31m---------------------------------------------------------------------------\u001b[0m",
      "\u001b[0;31mTypeError\u001b[0m                                 Traceback (most recent call last)",
      "\u001b[0;32m<ipython-input-28-ae695de4aaee>\u001b[0m in \u001b[0;36m<module>\u001b[0;34m()\u001b[0m\n\u001b[1;32m      1\u001b[0m \u001b[0my_true\u001b[0m\u001b[0;34m,\u001b[0m \u001b[0my_pred\u001b[0m \u001b[0;34m=\u001b[0m \u001b[0my_test\u001b[0m\u001b[0;34m,\u001b[0m \u001b[0mclf\u001b[0m\u001b[0;34m.\u001b[0m\u001b[0mpredict\u001b[0m\u001b[0;34m(\u001b[0m\u001b[0mX_test\u001b[0m\u001b[0;34m)\u001b[0m\u001b[0;34m\u001b[0m\u001b[0m\n\u001b[0;32m----> 2\u001b[0;31m \u001b[0mconfusion_matrix\u001b[0m\u001b[0;34m(\u001b[0m\u001b[0my_true\u001b[0m\u001b[0;34m,\u001b[0m \u001b[0my_pred\u001b[0m\u001b[0;34m.\u001b[0m\u001b[0mravel\u001b[0m\u001b[0;34m(\u001b[0m\u001b[0;34m)\u001b[0m\u001b[0;34m)\u001b[0m\u001b[0;34m\u001b[0m\u001b[0m\n\u001b[0m",
      "\u001b[0;31mTypeError\u001b[0m: 'numpy.ndarray' object is not callable"
     ],
     "output_type": "error"
    }
   ],
   "source": [
    "y_true, y_pred = y_test, clf.predict(X_test)\n",
    "confusion_matrix(y_true, y_pred.ravel())\n"
   ]
  }
 ],
 "metadata": {
  "kernelspec": {
   "display_name": "Python 3",
   "language": "python",
   "name": "python3"
  },
  "language_info": {
   "codemirror_mode": {
    "name": "ipython",
    "version": 3
   },
   "file_extension": ".py",
   "mimetype": "text/x-python",
   "name": "python",
   "nbconvert_exporter": "python",
   "pygments_lexer": "ipython3",
   "version": "3.7.0"
  }
 },
 "nbformat": 4,
 "nbformat_minor": 2
}
